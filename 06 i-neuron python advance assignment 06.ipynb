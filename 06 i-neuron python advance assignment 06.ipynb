{
 "cells": [
  {
   "cell_type": "markdown",
   "id": "80d5cfcb",
   "metadata": {},
   "source": [
    "### Q1. Describe three applications for exception processing."
   ]
  },
  {
   "cell_type": "markdown",
   "id": "f74532bd",
   "metadata": {},
   "source": [
    "### Answer\n",
    " Python provides the number of built-in exceptions, but here we are describing the common standard exceptions. A list of common exceptions that can be thrown from a standard Python program is given below.\n",
    "\n",
    "    *ZeroDivisionError: Occurs when a number is divided by zero.\n",
    "    *NameError: It occurs when a name is not found. It may be local or global.\n",
    "    *IndentationError: If incorrect indentation is given.\n",
    "    *IOError: It occurs when Input Output operation fails.\n",
    "    *EOFError: It occurs when the end of the file is reached, and yet operations are being performed.\n",
    "    \n",
    "Example:"
   ]
  },
  {
   "cell_type": "code",
   "execution_count": 1,
   "id": "877df4e2",
   "metadata": {},
   "outputs": [
    {
     "name": "stdout",
     "output_type": "stream",
     "text": [
      "Enter a:4\n",
      "Enter b:0\n",
      "can't divide by zero\n",
      "division by zero\n",
      "Hi I am finally block\n"
     ]
    }
   ],
   "source": [
    "#we can alwaws put our code in try expect blocks to handle exceptions\n",
    "try:    \n",
    "    a = int(input(\"Enter a:\"))    \n",
    "    b = int(input(\"Enter b:\"))    \n",
    "    c = a/b  \n",
    "    print(\"a/b = %d\",c)    \n",
    "    # Using exception object with the except statement  \n",
    "except Exception as e:  #general statement to handle different exceptions   \n",
    "    print(\"can't divide by zero\")    \n",
    "    print(e)  \n",
    "else:    \n",
    "    print(\"Hi I am else block\") \n",
    "finally:\n",
    "    print(\"Hi I am finally block\")"
   ]
  },
  {
   "cell_type": "markdown",
   "id": "34f84d16",
   "metadata": {},
   "source": [
    "### Q2. What happens if you don't do something extra to treat an exception?"
   ]
  },
  {
   "cell_type": "markdown",
   "id": "1137c336",
   "metadata": {},
   "source": [
    "### Answer\n",
    "When an exception occurred, if you don't handle it, the program terminates abruptly and the code past the line that caused the exception will not get executed. Because of not handling exceptions while deployment of end products users can face issues at their end while using the product."
   ]
  },
  {
   "cell_type": "markdown",
   "id": "ad4f7815",
   "metadata": {},
   "source": [
    "### Q3. What are your options for recovering from an exception in your script?"
   ]
  },
  {
   "cell_type": "markdown",
   "id": "1e2af31c",
   "metadata": {},
   "source": [
    "### Answer\n",
    "Exception handling and logging the exceptions are basic ideas that a programmer should follow. Also writing the code in modular fashion helps in easily fidong the errors in end products and logging make it easier for deelopers to resolve the issue at their end."
   ]
  },
  {
   "cell_type": "markdown",
   "id": "e364cb10",
   "metadata": {},
   "source": [
    "### Q4. Describe two methods for triggering exceptions in your script."
   ]
  },
  {
   "cell_type": "markdown",
   "id": "8774e336",
   "metadata": {},
   "source": [
    "### Answer\n",
    "An unhandled exception displays an error message and the program suddenly crashes. To avoid such a scenario, there are two methods to handle Python exceptions:\n",
    "\n",
    "Try – This method catches the exceptions raised by the program\n",
    "\n",
    "Raise – Triggers an exception manually using custom exceptions"
   ]
  },
  {
   "cell_type": "markdown",
   "id": "67a42d94",
   "metadata": {},
   "source": [
    "### Q5. Identify two methods for specifying actions to be executed at termination time, regardless of whether or not an exception exists."
   ]
  },
  {
   "cell_type": "markdown",
   "id": "a1ddc303",
   "metadata": {},
   "source": [
    "### Answer\n",
    "These methods are finally and else. A simple example using them is shown above."
   ]
  }
 ],
 "metadata": {
  "kernelspec": {
   "display_name": "Python 3",
   "language": "python",
   "name": "python3"
  },
  "language_info": {
   "codemirror_mode": {
    "name": "ipython",
    "version": 3
   },
   "file_extension": ".py",
   "mimetype": "text/x-python",
   "name": "python",
   "nbconvert_exporter": "python",
   "pygments_lexer": "ipython3",
   "version": "3.8.8"
  }
 },
 "nbformat": 4,
 "nbformat_minor": 5
}
