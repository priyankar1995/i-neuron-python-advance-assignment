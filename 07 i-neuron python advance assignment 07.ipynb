{
 "cells": [
  {
   "cell_type": "markdown",
   "id": "c357bddb",
   "metadata": {},
   "source": [
    "### Q1. What is the purpose of the try statement?"
   ]
  },
  {
   "cell_type": "markdown",
   "id": "b881f9cd",
   "metadata": {},
   "source": [
    "### Answer\n",
    "The try statement allows a programmer to define a block of code to be tested for errors while it is being executed. The catch statement allows you to define a block of code to be executed, if an error occurs in the try block."
   ]
  },
  {
   "cell_type": "markdown",
   "id": "8a718114",
   "metadata": {},
   "source": [
    "### Q2. What are the two most popular try statement variations?\n"
   ]
  },
  {
   "cell_type": "markdown",
   "id": "d604efa2",
   "metadata": {},
   "source": [
    "### Answer\n",
    "\n",
    "#### Variation 1:\n",
    "\n",
    "try:\n",
    "\n",
    "    *Some Code\n",
    "    \n",
    "except:\n",
    "\n",
    "    *Executed if error in the\n",
    "    *try block\n",
    "\n",
    "#### Variation 2:\n",
    "\n",
    "try:\n",
    "\n",
    "    *Some Code\n",
    "except:\n",
    "\n",
    "    *Executed if error in the\n",
    "    *try block\n",
    "else:\n",
    "\n",
    "    *execute if no exception\n",
    "\n",
    "#### Variation 3:\n",
    "\n",
    "try:\n",
    "\n",
    "    *Some Code\n",
    "except:\n",
    "\n",
    "    *Executed if error in the\n",
    "    *try block\n",
    "else:\n",
    "\n",
    "    *execute if no exception\n",
    "finally:\n",
    "\n",
    "    *Some code .....(always executed)"
   ]
  },
  {
   "cell_type": "markdown",
   "id": "6c8b0dc5",
   "metadata": {},
   "source": [
    "### Q3. What is the purpose of the raise statement?"
   ]
  },
  {
   "cell_type": "markdown",
   "id": "4281d3ad",
   "metadata": {},
   "source": [
    "### Answer"
   ]
  },
  {
   "cell_type": "code",
   "execution_count": 1,
   "id": "f79aff0e",
   "metadata": {},
   "outputs": [
    {
     "name": "stdout",
     "output_type": "stream",
     "text": [
      "Enter the input:fdghjh\n"
     ]
    },
    {
     "ename": "TypeError",
     "evalue": "Only integers are allowed",
     "output_type": "error",
     "traceback": [
      "\u001b[1;31m---------------------------------------------------------------------------\u001b[0m",
      "\u001b[1;31mTypeError\u001b[0m                                 Traceback (most recent call last)",
      "\u001b[1;32m<ipython-input-1-0f963b3bcf65>\u001b[0m in \u001b[0;36m<module>\u001b[1;34m\u001b[0m\n\u001b[0;32m      2\u001b[0m \u001b[0minput\u001b[0m \u001b[1;33m=\u001b[0m \u001b[0minput\u001b[0m\u001b[1;33m(\u001b[0m\u001b[1;34m\"Enter the input:\"\u001b[0m\u001b[1;33m)\u001b[0m\u001b[1;33m\u001b[0m\u001b[1;33m\u001b[0m\u001b[0m\n\u001b[0;32m      3\u001b[0m \u001b[1;32mif\u001b[0m \u001b[1;32mnot\u001b[0m \u001b[0mtype\u001b[0m\u001b[1;33m(\u001b[0m\u001b[0minput\u001b[0m\u001b[1;33m)\u001b[0m \u001b[1;32mis\u001b[0m \u001b[0mint\u001b[0m\u001b[1;33m:\u001b[0m\u001b[1;33m\u001b[0m\u001b[1;33m\u001b[0m\u001b[0m\n\u001b[1;32m----> 4\u001b[1;33m   \u001b[1;32mraise\u001b[0m \u001b[0mTypeError\u001b[0m\u001b[1;33m(\u001b[0m\u001b[1;34m\"Only integers are allowed\"\u001b[0m\u001b[1;33m)\u001b[0m \u001b[1;31m#exception will be thrown\u001b[0m\u001b[1;33m\u001b[0m\u001b[1;33m\u001b[0m\u001b[0m\n\u001b[0m",
      "\u001b[1;31mTypeError\u001b[0m: Only integers are allowed"
     ]
    }
   ],
   "source": [
    "#raising an exception \n",
    "input = input(\"Enter the input:\")\n",
    "if not type(input) is int:\n",
    "  raise TypeError(\"Only integers are allowed\") #exception will be thrown"
   ]
  },
  {
   "cell_type": "markdown",
   "id": "9479ee08",
   "metadata": {},
   "source": [
    "### Q4. What does the assert statement do, and what other statement is it like?\n"
   ]
  },
  {
   "cell_type": "markdown",
   "id": "d058d744",
   "metadata": {},
   "source": [
    "### Answer\n",
    "An assert statement checks whether a condition is true. If a condition evaluates to True, a program will keep running. If a condition is false, the program will return an AssertionError. At this point, the program will stop executing. Assertion is like raise statement."
   ]
  },
  {
   "cell_type": "markdown",
   "id": "a948efa9",
   "metadata": {},
   "source": [
    "### Q5. What is the purpose of the with/as argument, and what other statement is it like?\n"
   ]
  },
  {
   "cell_type": "markdown",
   "id": "aab5157f",
   "metadata": {},
   "source": [
    "### Answer\n",
    "The with statement in Python is used for resource management and exception handling. We use it while working with file streams. For example, the statement ensures that the file stream process doesn't block other processes if an exception is raised, but terminates properly. We can use a try statement or block it is somewhat similar to with."
   ]
  }
 ],
 "metadata": {
  "kernelspec": {
   "display_name": "Python 3",
   "language": "python",
   "name": "python3"
  },
  "language_info": {
   "codemirror_mode": {
    "name": "ipython",
    "version": 3
   },
   "file_extension": ".py",
   "mimetype": "text/x-python",
   "name": "python",
   "nbconvert_exporter": "python",
   "pygments_lexer": "ipython3",
   "version": "3.8.8"
  }
 },
 "nbformat": 4,
 "nbformat_minor": 5
}
