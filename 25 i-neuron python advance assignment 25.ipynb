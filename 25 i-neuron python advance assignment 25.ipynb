{
 "cells": [
  {
   "cell_type": "markdown",
   "id": "0e6b2990",
   "metadata": {},
   "source": [
    "### Q1. What is the distinction between a numpy array and a pandas data frame? Is there a way to convert between the two if there is?"
   ]
  },
  {
   "cell_type": "markdown",
   "id": "f96976a4",
   "metadata": {},
   "source": [
    "### Answer:\n",
    "The Pandas module mainly works with the tabular data, whereas the NumPy module works with the numerical data. NumPy library provides objects for multi-dimensional arrays, whereas Pandas is capable of offering an in-memory 2d table object called DataFrame. NumPy consumes less memory as compared to Pandas."
   ]
  },
  {
   "cell_type": "code",
   "execution_count": 2,
   "id": "c6535db1",
   "metadata": {},
   "outputs": [
    {
     "name": "stdout",
     "output_type": "stream",
     "text": [
      "[[  15. 2006.]\n",
      " [  25. 1996.]\n",
      " [  35. 1986.]\n",
      " [  45.   nan]]\n",
      "<class 'numpy.ndarray'>\n"
     ]
    }
   ],
   "source": [
    "import pandas as pd\n",
    "import numpy as np\n",
    "\n",
    "data = {'Age': [15,25,35,45],\n",
    "        'Birth Year': [2006,1996,1986, np.NaN]\n",
    "        }\n",
    "\n",
    "df = pd.DataFrame(data, columns = ['Age','Birth Year'])\n",
    "\n",
    "numpy_array = df.to_numpy()\n",
    "\n",
    "print(numpy_array)\n",
    "\n",
    "print(type(numpy_array))"
   ]
  },
  {
   "cell_type": "markdown",
   "id": "6fc04cb0",
   "metadata": {},
   "source": [
    "### Q2. What can go wrong when an user enters in a stock-ticker symbol, and how do you handle it?\n"
   ]
  },
  {
   "cell_type": "markdown",
   "id": "7fe9d924",
   "metadata": {},
   "source": [
    "### Answer:\n",
    "Ticker symbols aren't static and can change in the event of a merger, name change, or delisting. we can implement a try except else and finally block to deal with it."
   ]
  },
  {
   "cell_type": "markdown",
   "id": "b415b3a5",
   "metadata": {},
   "source": [
    "### Q3. Identify some of the plotting techniques that are used to produce a stock-market chart.\n"
   ]
  },
  {
   "cell_type": "markdown",
   "id": "4eddd207",
   "metadata": {},
   "source": [
    "### Answer:\n",
    "The main chart types used by most traders are the Line Chart, Candlestick Chart, Renko Chart, and Point and Figure charts. Usingm atplotlib we can make charts."
   ]
  },
  {
   "cell_type": "code",
   "execution_count": 3,
   "id": "c054731c",
   "metadata": {},
   "outputs": [
    {
     "data": {
      "image/png": "[encoded data removed]",
      "text/plain": [
       "<Figure size 432x288 with 1 Axes>"
      ]
     },
     "metadata": {
      "needs_background": "light"
     },
     "output_type": "display_data"
    }
   ],
   "source": [
    "import matplotlib.pyplot as plt\n",
    "import numpy as np\n",
    "\n",
    "x = np.array([1, 2, 3, 4])\n",
    "y = x*2\n",
    "\n",
    "# first plot with X and Y data\n",
    "plt.plot(x, y)\n",
    "\n",
    "x1 = [2, 4, 6, 8]\n",
    "y1 = [3, 5, 7, 9]\n",
    "\n",
    "# second plot with x1 and y1 data\n",
    "plt.plot(x1, y1, '-.')\n",
    "\n",
    "plt.xlabel(\"X-axis data\")\n",
    "plt.ylabel(\"Y-axis data\")\n",
    "plt.title('multiple plots')\n",
    "plt.show()\n"
   ]
  },
  {
   "cell_type": "markdown",
   "id": "c174d54b",
   "metadata": {},
   "source": [
    "### Q4. Why is it essential to print a legend on a stock market chart?\n",
    "\n"
   ]
  },
  {
   "cell_type": "markdown",
   "id": "31bf7522",
   "metadata": {},
   "source": [
    "### Answer:\n",
    "legend helps end user to identify the growth of a particular stock by seeing a chart. its crucial in data analytics."
   ]
  },
  {
   "cell_type": "markdown",
   "id": "6cdfbdb0",
   "metadata": {},
   "source": [
    "### Q5. What is the best way to limit the length of a pandas data frame to less than a year?\n",
    "\n"
   ]
  },
  {
   "cell_type": "markdown",
   "id": "f412c879",
   "metadata": {},
   "source": [
    "### Answer:\n",
    "truncate() function is used to truncate a Series or DataFrame before and after some index value. This is a useful shorthand for boolean indexing based on index values above or below certain thresholds."
   ]
  },
  {
   "cell_type": "markdown",
   "id": "92ac725c",
   "metadata": {},
   "source": [
    "### Q6. What is the definition of a 180-day moving average?\n"
   ]
  },
  {
   "cell_type": "markdown",
   "id": "81fff701",
   "metadata": {},
   "source": [
    "### Answer:\n",
    " a moving average is an indicator that shows the average value of a stock's price over a period (i.e. 10 days, 50 days, 180 days, 200 days, etc) and is usually plotted along with the closing price."
   ]
  },
  {
   "cell_type": "markdown",
   "id": "9b9f36e2",
   "metadata": {},
   "source": [
    "### Q7. Did the chapter's final example use \"indirect\" importing? If so, how exactly do you do it?\n"
   ]
  },
  {
   "cell_type": "markdown",
   "id": "4bd67a36",
   "metadata": {},
   "source": [
    "### Answer:\n",
    " This question can't be answered due to insufficient clarity"
   ]
  }
 ],
 "metadata": {
  "kernelspec": {
   "display_name": "Python 3",
   "language": "python",
   "name": "python3"
  },
  "language_info": {
   "codemirror_mode": {
    "name": "ipython",
    "version": 3
   },
   "file_extension": ".py",
   "mimetype": "text/x-python",
   "name": "python",
   "nbconvert_exporter": "python",
   "pygments_lexer": "ipython3",
   "version": "3.8.8"
  }
 },
 "nbformat": 4,
 "nbformat_minor": 5
}
