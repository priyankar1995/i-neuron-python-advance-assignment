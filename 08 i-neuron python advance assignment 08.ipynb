{
 "cells": [
  {
   "cell_type": "markdown",
   "id": "c6548969",
   "metadata": {},
   "source": [
    "### Q1. What are the two latest user-defined exception constraints in Python 3.X?"
   ]
  },
  {
   "cell_type": "markdown",
   "id": "e7b4eba5",
   "metadata": {},
   "source": [
    "### Answer:\n",
    " Python also provides an exception handling method with the help of try-except. Some of the standard exceptions which are most frequent include IndexError, ImportError, IOError, ZeroDivisionError, TypeError, and FileNotFoundError."
   ]
  },
  {
   "cell_type": "markdown",
   "id": "776571be",
   "metadata": {},
   "source": [
    "### Q2. How are class-based exceptions that have been raised matched to handlers?\n"
   ]
  },
  {
   "cell_type": "markdown",
   "id": "dd102005",
   "metadata": {},
   "source": [
    "### Answer:\n",
    "A class-based exception can either cancel the current context or allow for a resume. Exceptions are raised using the statement RAISE EXCEPTION and handled using CATCH in a TRY control structure. Class-based exceptions can be raised in any procedures and can be further propagated by any procedures. A common class based and user defined exception in a single program as shown in preious assignments can be division by zero."
   ]
  },
  {
   "cell_type": "markdown",
   "id": "d01a90c0",
   "metadata": {},
   "source": [
    "### Q3. Describe two methods for attaching context information to exception artefacts.\n",
    "\n",
    " "
   ]
  },
  {
   "cell_type": "markdown",
   "id": "e2bdd227",
   "metadata": {},
   "source": [
    "### Answer:\n",
    "IMPLICIT EXCEPTION CHAINING AND EXPLICIT EXCEPTION CHAINING can be done for attaching context information to exception artefacts.\n",
    "\n",
    "PEP proposes three standard attributes on exception instances: the context attribute for implicitly chained exceptions, the cause attribute for explicitly chained exceptions, and the traceback attribute for the traceback. A new raise ... from statement sets the cause attribute. An example to illustrate the context attribute():"
   ]
  },
  {
   "cell_type": "code",
   "execution_count": 1,
   "id": "70f1419c",
   "metadata": {},
   "outputs": [],
   "source": [
    "#IMPLICIT EXCEPTION CHAINING\n",
    "def compute(a, b):\n",
    "    try:\n",
    "        a/b\n",
    "    except Exception as exc:\n",
    "        log(exc)\n",
    "\n",
    "def log(exc):\n",
    "    file = open('logfile.txt')  # oops, forgot the 'w'\n",
    "    print(file, exc)\n",
    "    file.close()"
   ]
  },
  {
   "cell_type": "code",
   "execution_count": null,
   "id": "c551828a",
   "metadata": {},
   "outputs": [],
   "source": [
    "#expicit exception chaining\n",
    "'''If the call to open() raises an exception, the problem will be reported as a DatabaseError, \n",
    "with a __cause__ attribute that reveals the IOError as the original cause.'''\n",
    "class DatabaseError(Exception):\n",
    "    pass\n",
    "\n",
    "class FileDatabase(Database):\n",
    "    def __init__(self, filename):\n",
    "        try:\n",
    "            self.file = open(filename)\n",
    "        except IOError as exc:\n",
    "            raise DatabaseError('failed to open') from exc"
   ]
  },
  {
   "cell_type": "code",
   "execution_count": null,
   "id": "10bd1e17",
   "metadata": {},
   "outputs": [],
   "source": [
    "#traceback attribute\n",
    "def do_logged(file, work):\n",
    "    try:\n",
    "        work()\n",
    "    except Exception exc:\n",
    "        write_exception(file, exc)\n",
    "        raise exc\n",
    "\n",
    "from traceback import format_tb\n",
    "\n",
    "def write_exception(file, exc):\n",
    "    ...\n",
    "    type = exc.__class__\n",
    "    message = str(exc)\n",
    "    lines = format_tb(exc.__traceback__)\n",
    "    file.write(... type ... message ... lines ...)"
   ]
  },
  {
   "cell_type": "markdown",
   "id": "f954ac75",
   "metadata": {},
   "source": [
    "### Q4. Describe two methods for specifying the text of an exception object's error message.\n"
   ]
  },
  {
   "cell_type": "markdown",
   "id": "913b533e",
   "metadata": {},
   "source": [
    "### Answer:\n",
    "try, except, else and finally in else and finally even in except we can add another try except blockto raise an exception that might still come. Basically, we can raise an excepion using the ecept block or using raise command."
   ]
  },
  {
   "cell_type": "markdown",
   "id": "308f0ff7",
   "metadata": {},
   "source": [
    "### Q5. Why do you no longer use string-based exceptions?\n"
   ]
  },
  {
   "cell_type": "markdown",
   "id": "b436e0b2",
   "metadata": {},
   "source": [
    "### Answer:\n",
    "Accordig to recent updates the standard exceptions are Python classes, and a few new standard exceptions have been added. The obsolete AccessError exception has been deleted. Because it is possible (although unlikely) that this change broke existing code, the Python interpreter can be invoked the command line option -X to disable this feature, and use string exceptions like before. This option is a temporary measure - eventually the string-based standard exceptions will be removed from the language altogether. It hasn't been decided whether user-defined string exceptions will be allowed in Python 2.0."
   ]
  }
 ],
 "metadata": {
  "kernelspec": {
   "display_name": "Python 3",
   "language": "python",
   "name": "python3"
  },
  "language_info": {
   "codemirror_mode": {
    "name": "ipython",
    "version": 3
   },
   "file_extension": ".py",
   "mimetype": "text/x-python",
   "name": "python",
   "nbconvert_exporter": "python",
   "pygments_lexer": "ipython3",
   "version": "3.8.8"
  }
 },
 "nbformat": 4,
 "nbformat_minor": 5
}
