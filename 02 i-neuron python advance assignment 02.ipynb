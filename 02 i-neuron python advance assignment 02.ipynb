{
 "cells": [
  {
   "cell_type": "markdown",
   "id": "0f872f00",
   "metadata": {},
   "source": [
    "### Q1. What is the relationship between classes and modules?"
   ]
  },
  {
   "cell_type": "markdown",
   "id": "eaffbed6",
   "metadata": {},
   "source": [
    "### Answer:\n",
    "Modules are collections of methods and constants. They cannot generate instances. Classes may generate instances (objects), and have per-instance state (instance variables)."
   ]
  },
  {
   "cell_type": "markdown",
   "id": "9850f0df",
   "metadata": {},
   "source": [
    "### Q2. How do you make instances and classes?"
   ]
  },
  {
   "cell_type": "markdown",
   "id": "e1944216",
   "metadata": {},
   "source": [
    "### Answer:\n",
    "Classes can be cretaed with the help of keyword class. To create instances of a class, we can call the class using class name and pass in whatever arguments its init method accepts."
   ]
  },
  {
   "cell_type": "markdown",
   "id": "937ac1ee",
   "metadata": {},
   "source": [
    "### Q3. Where and how should be class attributes created?"
   ]
  },
  {
   "cell_type": "markdown",
   "id": "f60401ca",
   "metadata": {},
   "source": [
    "### Answer:\n",
    "Any variable that is bound in a class is a class attribute. Any function defined within a class is a method. Methods receive an instance of the class, conventionally called self, as the first argument. For example"
   ]
  },
  {
   "cell_type": "code",
   "execution_count": 1,
   "id": "5cc6708b",
   "metadata": {},
   "outputs": [],
   "source": [
    "class MyClass:\n",
    "    attr1 = 10        #class attributes\n",
    "    attr2 = \"hello\"\n",
    "\n",
    "    def method1(self):\n",
    "        print( MyClass.attr1)   #reference the class attribute\n",
    "\n",
    "    def method2(self):\n",
    "        print( MyClass.attr2)   #reference the class attribute\n",
    "\n",
    "    def method3(self, text):\n",
    "        self.text = text        #instance attribute\n",
    "        print( text, self.text)   #print my argument and my attribute\n",
    "\n",
    "    method4 = method3   #make an alias for method3"
   ]
  },
  {
   "cell_type": "markdown",
   "id": "8e64b1d7",
   "metadata": {},
   "source": [
    "### Q4. Where and how are instance attributes created?\n"
   ]
  },
  {
   "cell_type": "markdown",
   "id": "a2154753",
   "metadata": {},
   "source": [
    "### Answer:\n",
    "Instance attributes are attributes or properties attached to an instance of a class. Instance attributes are defined in the constructor."
   ]
  },
  {
   "cell_type": "markdown",
   "id": "fa3a569f",
   "metadata": {},
   "source": [
    "### Q5. What does the term \"self\" in a Python class mean?\n"
   ]
  },
  {
   "cell_type": "markdown",
   "id": "be0a1edc",
   "metadata": {},
   "source": [
    "### Answer:\n",
    "self represents the instance of the class. By using the “self” keyword we can access the attributes and methods of the class in python. It binds the attributes with the given arguments."
   ]
  },
  {
   "cell_type": "markdown",
   "id": "e07f2b07",
   "metadata": {},
   "source": [
    "### Q6. How does a Python class handle operator overloading?\n"
   ]
  },
  {
   "cell_type": "markdown",
   "id": "1c7bf234",
   "metadata": {},
   "source": [
    "### Answer:\n",
    "The operator overloading in Python means provide extended meaning beyond their predefined operational meaning. Such as, we use the \"+\" operator for adding two integers as well as joining two strings or merging two lists. We can achieve this as the \"+\" operator is overloaded by the \"int\" class and \"str\" class. The user can notice that the same inbuilt operator or function is showing different behaviour for objects of different classes. This process is known as operator overloading. For example:"
   ]
  },
  {
   "cell_type": "code",
   "execution_count": 2,
   "id": "792e1ded",
   "metadata": {},
   "outputs": [
    {
     "name": "stdout",
     "output_type": "stream",
     "text": [
      "(44, 34)\n"
     ]
    }
   ],
   "source": [
    "class complex_1:  \n",
    "    def __init__(self, X, Y):  \n",
    "        self.X = X  \n",
    "        self.Y = Y  \n",
    "   \n",
    "    # Now, we will add the two objects  \n",
    "    def __add__(self, U):  \n",
    "        return self.X + U.X, self.Y + U.Y  \n",
    "   \n",
    "Object_1 = complex_1(23, 12)  \n",
    "Object_2 = complex_1(21, 22)  \n",
    "Object_3 = Object_1 + Object_2  \n",
    "print (Object_3)"
   ]
  },
  {
   "cell_type": "markdown",
   "id": "e14cf19b",
   "metadata": {},
   "source": [
    "### Q7. When do you consider allowing operator overloading of your classes?\n"
   ]
  },
  {
   "cell_type": "markdown",
   "id": "2580c932",
   "metadata": {},
   "source": [
    "### Answer:\n",
    "Suppose that we have two objects which are a physical representation of a class (user-defined data type) and we have to add two objects with binary '+' operator it throws an error, because compiler don't know how to add two objects. So we define a method for an operator and that process is called operator overloading."
   ]
  },
  {
   "cell_type": "markdown",
   "id": "2c378f4c",
   "metadata": {},
   "source": [
    "### Q8. What is the most popular form of operator overloading?\n"
   ]
  },
  {
   "cell_type": "markdown",
   "id": "77bbbb32",
   "metadata": {},
   "source": [
    "### Answer:\n",
    " A very popular and convenient example is the Addition (+) operator. the '+' operator operates on two numbers and the same operator operates on two strings. It performs “Addition” on numbers whereas it performs “Concatenation” on strings."
   ]
  },
  {
   "cell_type": "markdown",
   "id": "3c216072",
   "metadata": {},
   "source": [
    "### Q9. What are the two most important concepts to grasp in order to comprehend Python OOP code?\n"
   ]
  },
  {
   "cell_type": "markdown",
   "id": "f3a700eb",
   "metadata": {},
   "source": [
    "### Answer:\n",
    "The two most important concepts to grasp in order to comprehend Python OOP code are polymorphism and inheritence."
   ]
  },
  {
   "cell_type": "code",
   "execution_count": 3,
   "id": "b89a8801",
   "metadata": {},
   "outputs": [
    {
     "name": "stdout",
     "output_type": "stream",
     "text": [
      "this is a msg to ineruon\n",
      "this is a msg to xyz\n"
     ]
    }
   ],
   "source": [
    "#polymorphism example :\n",
    "class ineuron:\n",
    "    def msg(self):\n",
    "        print(\"this is a msg to ineruon\")\n",
    "          \n",
    "class xyz:  \n",
    "    def msg(self):\n",
    "        print(\"this is a msg to xyz\")     \n",
    "\n",
    "def test(notes):\n",
    "    notes.msg()\n",
    "\n",
    "i = ineuron()\n",
    "x = xyz()\n",
    "\n",
    "test(i) # function giving some result\n",
    "test(x) # same function giving some other result"
   ]
  },
  {
   "cell_type": "code",
   "execution_count": 4,
   "id": "fc7a0828",
   "metadata": {},
   "outputs": [
    {
     "name": "stdout",
     "output_type": "stream",
     "text": [
      "iNeuron Company was established in 2018\n"
     ]
    }
   ],
   "source": [
    "#inheritence example:\n",
    "class Ineuron:\n",
    "    company_website = 'https://ineuron.ai/'\n",
    "    name = 'iNeuron'\n",
    " \n",
    "    def contact_details(self):\n",
    "        print('Contact us at ', self.company_website)\n",
    "\n",
    "class Datascience(Ineuron):\n",
    "    def __init__(self):\n",
    "        self.year_of_establishment= 2018\n",
    " \n",
    "    def est_details(self):\n",
    "        print('{0} Company was established in {1}'\n",
    "              .format(self.name,self.year_of_establishment))\n",
    " \n",
    "ds = Datascience()\n",
    "ds.est_details()"
   ]
  }
 ],
 "metadata": {
  "kernelspec": {
   "display_name": "Python 3",
   "language": "python",
   "name": "python3"
  },
  "language_info": {
   "codemirror_mode": {
    "name": "ipython",
    "version": 3
   },
   "file_extension": ".py",
   "mimetype": "text/x-python",
   "name": "python",
   "nbconvert_exporter": "python",
   "pygments_lexer": "ipython3",
   "version": "3.8.8"
  }
 },
 "nbformat": 4,
 "nbformat_minor": 5
}
