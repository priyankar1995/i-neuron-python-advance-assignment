{
 "cells": [
  {
   "cell_type": "markdown",
   "id": "5dd0543c",
   "metadata": {},
   "source": [
    "### Q1. What is the concept of a metaclass?"
   ]
  },
  {
   "cell_type": "markdown",
   "id": "144a4291",
   "metadata": {},
   "source": [
    "### Answer:\n",
    "In object-oriented programming, a metaclass is a class whose instances are classes. Just as an ordinary class defines the behavior of certain objects, a metaclass defines the behavior of certain classes and their instances.\n",
    "\n",
    "A Class is also an object, and just like any other object, it’s an instance of something called Metaclass. A special class type creates these Class objects. The type class is default metaclass which is responsible for making classes."
   ]
  },
  {
   "cell_type": "code",
   "execution_count": 2,
   "id": "bec177a8",
   "metadata": {},
   "outputs": [
    {
     "name": "stdout",
     "output_type": "stream",
     "text": [
      "Type of stu_obj is: <class '__main__.Student'>\n"
     ]
    }
   ],
   "source": [
    "class Student:\n",
    "    pass\n",
    "stu_obj = Student()\n",
    "# Print type of object of Student class\n",
    "print(\"Type of stu_obj is:\", type(stu_obj))\n",
    "# In the above example, if we try to find out the type of Student class, it comes out to be a type."
   ]
  },
  {
   "cell_type": "markdown",
   "id": "8dd093bd",
   "metadata": {},
   "source": [
    "### Q2. What is the best way to declare a class's metaclass?\n"
   ]
  },
  {
   "cell_type": "markdown",
   "id": "fb1b89a9",
   "metadata": {},
   "source": [
    "### Answer:"
   ]
  },
  {
   "cell_type": "code",
   "execution_count": 3,
   "id": "0a87defe",
   "metadata": {},
   "outputs": [
    {
     "name": "stdout",
     "output_type": "stream",
     "text": [
      "True\n",
      "True\n",
      "True\n"
     ]
    }
   ],
   "source": [
    "n = 5\n",
    "d = { 'x' : 1, 'y' : 2 }\n",
    "class Foo:\n",
    "     pass\n",
    "x = Foo()\n",
    "for obj in (n, d, x):\n",
    "  print(type(obj) is obj.__class__)"
   ]
  },
  {
   "cell_type": "markdown",
   "id": "ab389e9a",
   "metadata": {},
   "source": [
    "### Q3. How do class decorators overlap with metaclasses for handling classes?\n"
   ]
  },
  {
   "cell_type": "markdown",
   "id": "281a605a",
   "metadata": {},
   "source": [
    "### Answer:\n",
    "Decorators are much, much simpler and more limited and therefore should be preferred whenever the desired effect can be achieved with either a metaclass or a class decorator.\n",
    "\n",
    "we can do anything with a class decorator, we can of course do with a custom metaclass (just apply the functionality of the \"decorator function\", i.e., the one that takes a class object and modifies it, in the course of the metaclass's new or init that make the class object.\n",
    "\n",
    "The same applies to all magic methods, i.e., to all kinds of operations as applied to the class object itself (as opposed to, ones applied to its instances, which use magic methods as defined in the class operations on the class object itself use magic methods as defined in the metaclass)."
   ]
  },
  {
   "cell_type": "code",
   "execution_count": 4,
   "id": "87529e28",
   "metadata": {},
   "outputs": [
    {
     "name": "stdout",
     "output_type": "stream",
     "text": [
      "Full name of this method: Calc.add\n",
      "5\n",
      "Full name of this method: Calc.mul\n",
      "10\n",
      "Full name of this method: Calc.div\n",
      "2.5\n"
     ]
    }
   ],
   "source": [
    "from functools import wraps\n",
    "\n",
    "def debug(func):\n",
    "\t'''decorator for debugging passed function'''\n",
    "\t\n",
    "\t@wraps(func)\n",
    "\tdef wrapper(*args, **kwargs):\n",
    "\t\tprint(\"Full name of this method:\", func.__qualname__)\n",
    "\t\treturn func(*args, **kwargs)\n",
    "\treturn wrapper\n",
    "\n",
    "def debugmethods(cls):\n",
    "\t'''class decorator make use of debug decorator to debug class methods '''\n",
    "\t# check in class dictionary for any callable(method) if exist, replace it with debugged version\n",
    "\tfor key, val in vars(cls).items():\n",
    "\t\tif callable(val):\n",
    "\t\t\tsetattr(cls, key, debug(val))\n",
    "\treturn cls\n",
    "# sample class\n",
    "@debugmethods\n",
    "class Calc:\n",
    "\tdef add(self, x, y):\n",
    "\t\treturn x+y\n",
    "\tdef mul(self, x, y):\n",
    "\t\treturn x*y\n",
    "\tdef div(self, x, y):\n",
    "\t\treturn x/y\n",
    "\t\n",
    "mycal = Calc()\n",
    "print(mycal.add(2, 3))\n",
    "print(mycal.mul(5, 2))\n",
    "print(mycal.div(5, 2))"
   ]
  },
  {
   "cell_type": "markdown",
   "id": "4b29dfd2",
   "metadata": {},
   "source": [
    "### Q4. How do class decorators overlap with metaclasses for handling instances?\n"
   ]
  },
  {
   "cell_type": "markdown",
   "id": "b80ee033",
   "metadata": {},
   "source": [
    "### Answer:\n",
    "Decorators can be used to manage both instances and classes, and they intersect with metaclasses in the second of these roles."
   ]
  },
  {
   "cell_type": "code",
   "execution_count": 5,
   "id": "9ffb2484",
   "metadata": {},
   "outputs": [
    {
     "name": "stdout",
     "output_type": "stream",
     "text": [
      "120\n",
      "Total time taken in :  factorial 20.002166986465454\n"
     ]
    }
   ],
   "source": [
    "import time\n",
    "import math\n",
    "# decorator to calculate duration taken by any function.\n",
    "def calculate_time(func):\t\n",
    "# added arguments inside the inner1, if function takes any arguments, can be added like this.\n",
    "\tdef inner1(*args, **kwargs):\n",
    "\t\t# storing time before function execution\n",
    "\t\tbegin = time.time()\n",
    "\t\tfunc(*args, **kwargs)\n",
    "\t\t# storing time after function execution\n",
    "\t\tend = time.time()\n",
    "\t\tprint(\"Total time taken in : \", func.__name__, end - begin)\n",
    "\treturn inner1\n",
    "# this can be added to any function present, in this case to calculate a factorial\n",
    "@calculate_time\n",
    "def factorial(num):\n",
    "\t# sleep 20 seconds because it takes very less time so that we can see the actual difference\n",
    "\ttime.sleep(20)\n",
    "\tprint(math.factorial(num))\n",
    "factorial(5)"
   ]
  }
 ],
 "metadata": {
  "kernelspec": {
   "display_name": "Python 3",
   "language": "python",
   "name": "python3"
  },
  "language_info": {
   "codemirror_mode": {
    "name": "ipython",
    "version": 3
   },
   "file_extension": ".py",
   "mimetype": "text/x-python",
   "name": "python",
   "nbconvert_exporter": "python",
   "pygments_lexer": "ipython3",
   "version": "3.8.8"
  }
 },
 "nbformat": 4,
 "nbformat_minor": 5
}
