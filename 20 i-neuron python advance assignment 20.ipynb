{
 "cells": [
  {
   "cell_type": "markdown",
   "id": "b1f159a3",
   "metadata": {},
   "source": [
    "### 1. Compare and contrast the float and Decimal classes' benefits and drawbacks."
   ]
  },
  {
   "cell_type": "markdown",
   "id": "a163425c",
   "metadata": {},
   "source": [
    "### Answer:\n",
    "Float stores an approximate value and decimal stores an exact value. In summary, exact values like money should use decimal, and approximate values like scientific measurements should use float. When multiplying a non integer and dividing by that same number, decimals lose precision while floats do not."
   ]
  },
  {
   "cell_type": "markdown",
   "id": "1c495621",
   "metadata": {},
   "source": [
    "### 2. Decimal('1.200') and Decimal('1.2') are two objects to consider. In what sense are these the same object? Are these just two ways of representing the exact same value, or do they correspond to different internal states?\n"
   ]
  },
  {
   "cell_type": "markdown",
   "id": "554026f2",
   "metadata": {},
   "source": [
    "### Answer:\n",
    "the output of both od them will be same this is just a way of representing precision upto 3 decimal points basic mathematics can be seen here in below example. the deciam class while outputting the result rund off the value to 1.2 from 1.200"
   ]
  },
  {
   "cell_type": "code",
   "execution_count": 1,
   "id": "d17ab497",
   "metadata": {},
   "outputs": [
    {
     "name": "stdout",
     "output_type": "stream",
     "text": [
      "1.2 1.2\n"
     ]
    }
   ],
   "source": [
    "c  = 1.200\n",
    "d = 1.2 \n",
    "print(c,d)"
   ]
  },
  {
   "cell_type": "markdown",
   "id": "6fb2bb0e",
   "metadata": {},
   "source": [
    "### 3. What happens if the equality of Decimal('1.200') and Decimal('1.2') is checked?\n"
   ]
  },
  {
   "cell_type": "markdown",
   "id": "fd4cfdb9",
   "metadata": {},
   "source": [
    "### Answer:\n",
    "Float stores an approximate value and decimal stores an exact value\n"
   ]
  },
  {
   "cell_type": "code",
   "execution_count": 2,
   "id": "5b12d869",
   "metadata": {},
   "outputs": [
    {
     "name": "stdout",
     "output_type": "stream",
     "text": [
      "1.2 1.2\n",
      "<class 'float'>\n"
     ]
    }
   ],
   "source": [
    "\n",
    "c  = 1.200\n",
    "d = 1.2 \n",
    "if c == d:\n",
    "  print(c,d)\n",
    "print(type(c))"
   ]
  },
  {
   "cell_type": "markdown",
   "id": "a9490dd1",
   "metadata": {},
   "source": [
    "### 4. Why is it preferable to start a Decimal object with a string rather than a floating-point value?\n"
   ]
  },
  {
   "cell_type": "markdown",
   "id": "7bbe36d0",
   "metadata": {},
   "source": [
    "### Answer:\n",
    "Because using floats for currency will just cause errors down the road. floats are NOT usable for representing real world values like money - not reliably, anyways.\n"
   ]
  },
  {
   "cell_type": "code",
   "execution_count": 3,
   "id": "cdf81e31",
   "metadata": {},
   "outputs": [
    {
     "name": "stdout",
     "output_type": "stream",
     "text": [
      "0.142857\n",
      "0.1428571428571428571428571429\n"
     ]
    }
   ],
   "source": [
    "\n",
    "from decimal import *\n",
    "getcontext().prec = 6\n",
    "print(Decimal(1) / Decimal(7))\n",
    "getcontext().prec = 28\n",
    "print(Decimal(1) / Decimal(7))\n"
   ]
  },
  {
   "cell_type": "markdown",
   "id": "825daeba",
   "metadata": {},
   "source": [
    "### 5. In an arithmetic phrase, how simple is it to combine Decimal objects with integers?\n"
   ]
  },
  {
   "cell_type": "markdown",
   "id": "95fd3a6a",
   "metadata": {},
   "source": [
    "### Answer:\n",
    "we can simply write following statement as example"
   ]
  },
  {
   "cell_type": "code",
   "execution_count": 4,
   "id": "fc286850",
   "metadata": {},
   "outputs": [
    {
     "data": {
      "text/plain": [
       "10.9"
      ]
     },
     "execution_count": 4,
     "metadata": {},
     "output_type": "execute_result"
    }
   ],
   "source": [
    ".9 + 10"
   ]
  },
  {
   "cell_type": "markdown",
   "id": "c1a1bc55",
   "metadata": {},
   "source": [
    "### 6. Can Decimal objects and floating-point values be combined easily?\n"
   ]
  },
  {
   "cell_type": "markdown",
   "id": "e9bb00e5",
   "metadata": {},
   "source": [
    "### Answer:\n",
    "Decimal objects cannot generally be combined with floats or instances of fractions."
   ]
  },
  {
   "cell_type": "markdown",
   "id": "496da4f6",
   "metadata": {},
   "source": [
    "### 7. Using the Fraction class but not the Decimal class, give an example of a quantity that can be expressed with absolute precision.\n"
   ]
  },
  {
   "cell_type": "markdown",
   "id": "df9172b0",
   "metadata": {},
   "source": [
    "### Answer:"
   ]
  },
  {
   "cell_type": "code",
   "execution_count": 5,
   "id": "1c8106cd",
   "metadata": {},
   "outputs": [
    {
     "name": "stdout",
     "output_type": "stream",
     "text": [
      "11/35\n",
      "5/9\n",
      "0\n"
     ]
    }
   ],
   "source": [
    "from fractions import Fraction\n",
    "\n",
    "print (Fraction(11, 35))\n",
    "# returns Fraction(11, 35)\n",
    "print (Fraction(10, 18))\n",
    "# returns Fraction(5, 9)\n",
    "print (Fraction())\n",
    "# returns Fraction(0, 1)"
   ]
  },
  {
   "cell_type": "code",
   "execution_count": 6,
   "id": "0b848c3c",
   "metadata": {},
   "outputs": [
    {
     "name": "stdout",
     "output_type": "stream",
     "text": [
      "157079632679489661923/50000000000000000000\n",
      "355/113\n",
      "311/99\n",
      "22/7\n",
      "5\n",
      "2\n"
     ]
    }
   ],
   "source": [
    "from fractions import Fraction\n",
    "print (Fraction('3.14159265358979323846'))\n",
    "print (Fraction('3.14159265358979323846').limit_denominator(10000))\n",
    "print (Fraction('3.14159265358979323846').limit_denominator(100))\n",
    "print (Fraction('3.14159265358979323846').limit_denominator(10))\n",
    "print (Fraction(125, 50).numerator)\n",
    "print (Fraction(125, 50).denominator)"
   ]
  },
  {
   "cell_type": "markdown",
   "id": "265143c8",
   "metadata": {},
   "source": [
    "### 8. Describe a quantity that can be accurately expressed by the Decimal or Fraction classes but not by a floating-point value.\n"
   ]
  },
  {
   "cell_type": "markdown",
   "id": "a2697b46",
   "metadata": {},
   "source": [
    "### Answer:\n",
    "0.00011 is a finite representation of an infinite number of digits. That doesn't help us with floating-point. Floating-point does not represent numbers using repeat bars; it represents them with a fixed number of bits it can be represented by decimal or fraction class"
   ]
  },
  {
   "cell_type": "markdown",
   "id": "5e145f52",
   "metadata": {},
   "source": [
    "### Q9.Consider the following two fraction objects: Fraction(1, 2) and Fraction(1, 2). (5, 10). Is the internal state of these two objects the same? Why do you think that is?\n"
   ]
  },
  {
   "cell_type": "markdown",
   "id": "e8bf96a4",
   "metadata": {},
   "source": [
    "### Answer:\n",
    "the internal state is same will give fraction of 1/2"
   ]
  },
  {
   "cell_type": "markdown",
   "id": "13934ff0",
   "metadata": {},
   "source": [
    "### Q10. How do the Fraction class and the integer type (int) relate to each other? Containment or inheritance?\n"
   ]
  },
  {
   "cell_type": "markdown",
   "id": "b7b62361",
   "metadata": {},
   "source": [
    "### Answer:\n",
    "With the help of 'Inheritance' The Fraction class and the integer type (int) relate to each other."
   ]
  }
 ],
 "metadata": {
  "kernelspec": {
   "display_name": "Python 3",
   "language": "python",
   "name": "python3"
  },
  "language_info": {
   "codemirror_mode": {
    "name": "ipython",
    "version": 3
   },
   "file_extension": ".py",
   "mimetype": "text/x-python",
   "name": "python",
   "nbconvert_exporter": "python",
   "pygments_lexer": "ipython3",
   "version": "3.8.8"
  }
 },
 "nbformat": 4,
 "nbformat_minor": 5
}
