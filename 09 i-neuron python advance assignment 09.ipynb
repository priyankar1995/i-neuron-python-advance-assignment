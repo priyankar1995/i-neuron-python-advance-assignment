{
 "cells": [
  {
   "cell_type": "markdown",
   "id": "4d5f25c9",
   "metadata": {},
   "source": [
    "### Q1. In Python 3.X, what are the names and functions of string object types?"
   ]
  },
  {
   "cell_type": "markdown",
   "id": "d31ee273",
   "metadata": {},
   "source": [
    "### Answer:\n",
    " In Python 3.X, what are the names and functions of string object types?\n",
    "\n",
    "Answer: There are many string functions some of them are mentioned below isascii(), islower(), isdigit(), upper(), lower(), lstrip(). rstrip()\n",
    "\n",
    "basically after definign the string we can use (dot) and them tab in jupyter notebook or ctrl+space in colab to access these we don't need to remember them."
   ]
  },
  {
   "cell_type": "markdown",
   "id": "9c75a19b",
   "metadata": {},
   "source": [
    "### Q2. How do the string forms in Python 3.X vary in terms of operations?\n"
   ]
  },
  {
   "cell_type": "markdown",
   "id": "3ee32601",
   "metadata": {},
   "source": [
    "### Answer:\n",
    "The type can be used with format codes just add a '%' symbol before them :\n",
    "\n",
    "\n",
    "    *‘d’ for integers\n",
    "    *‘f’ for floating-point numbers\n",
    "    *‘b’ for binary numbers\n",
    "    *‘o’ for octal numbers\n",
    "    *‘x’ for octal hexadecimal numbers\n",
    "    *‘s’ for string\n",
    "    *‘e’ for floating-point in an exponent format"
   ]
  },
  {
   "cell_type": "markdown",
   "id": "fb758bf4",
   "metadata": {},
   "source": [
    "### Q3. In 3.X, how do you put non-ASCII Unicode characters in a string?\n"
   ]
  },
  {
   "cell_type": "markdown",
   "id": "a1f8373e",
   "metadata": {},
   "source": [
    "### Answer:\n",
    " In order to use non-ASCII characters, Python requires explicit encoding and decoding of strings into Unicode. we can check using the ascii value using ord()"
   ]
  },
  {
   "cell_type": "code",
   "execution_count": 1,
   "id": "a8d6a895",
   "metadata": {},
   "outputs": [
    {
     "name": "stdout",
     "output_type": "stream",
     "text": [
      "97\n",
      "33\n"
     ]
    }
   ],
   "source": [
    "print(ord(\"a\"))\n",
    "print(ord(\"!\"))"
   ]
  },
  {
   "cell_type": "markdown",
   "id": "ebfdb90a",
   "metadata": {},
   "source": [
    "### Q4. In Python 3.X, what are the key differences between text-mode and binary-mode files?\n"
   ]
  },
  {
   "cell_type": "markdown",
   "id": "7526be82",
   "metadata": {},
   "source": [
    "### Answer:\n",
    "The major difference between these two is that a text file contains textual information in the form of alphabets, digits and special characters or symbols. On the other hand, a binary file contains bytes or a compiled version of a text file."
   ]
  },
  {
   "cell_type": "markdown",
   "id": "8a9a194f",
   "metadata": {},
   "source": [
    "### Q5. How can you interpret a Unicode text file containing text encoded in a different encoding than your platform's default?\n"
   ]
  },
  {
   "cell_type": "markdown",
   "id": "cdb83636",
   "metadata": {},
   "source": [
    "### Answer:\n",
    "we can do it by hit and trieal trying different types of ending like utf-8, utf-16 etc."
   ]
  },
  {
   "cell_type": "markdown",
   "id": "da24141f",
   "metadata": {},
   "source": [
    "### Q6. What is the best way to make a Unicode text file in a particular encoding format?\n"
   ]
  },
  {
   "cell_type": "markdown",
   "id": "330139ee",
   "metadata": {},
   "source": [
    "### Answer:"
   ]
  },
  {
   "cell_type": "markdown",
   "id": "04d60114",
   "metadata": {},
   "source": [
    " Use str.encode() and file.write() to make a Unicode text file in a particular encoding format, default encoding format is UTF-18.\n",
    "\n",
    "Call str.encode(encoding) with encoding set to utf8 to encode str.\n",
    "\n",
    "Call open(file, mode) to open a file with mode set to wb . wb writes to files in binary mode & preserves UTF-8format.\n",
    "\n",
    "Call file.write(data) to write data to the file."
   ]
  },
  {
   "cell_type": "code",
   "execution_count": 2,
   "id": "6f363e20",
   "metadata": {},
   "outputs": [
    {
     "name": "stdout",
     "output_type": "stream",
     "text": [
      "b'\\xd1\\x83\\xd0\\xbb\\xd1\\x8b\\xd0\\xb1\\xd0\\xb0\\xd1\\x82\\xd1\\x8c\\xd1\\x81\\xd1\\x8f \\xd0\\x92\\xd0\\xbb\\xd0\\xb0\\xd0\\xb4\\xd0\\xb8\\xd0\\xbc\\xd0\\xb8\\xd1\\x80 \\xd0\\x9f\\xd1\\x83\\xd1\\x82\\xd0\\xb8\\xd0\\xbd'\n",
      "\n",
      "b'\\xd1\\x83\\xd0\\xbb\\xd1\\x8b\\xd0\\xb1\\xd0\\xb0\\xd1\\x82\\xd1\\x8c\\xd1\\x81\\xd1\\x8f \\xd0\\x92\\xd0\\xbb\\xd0\\xb0\\xd0\\xb4\\xd0\\xb8\\xd0\\xbc\\xd0\\xb8\\xd1\\x80 \\xd0\\x9f\\xd1\\x83\\xd1\\x82\\xd0\\xb8\\xd0\\xbd'\n"
     ]
    }
   ],
   "source": [
    "unicode_text = u\"улыбаться Владимир Путин\"\n",
    "encoded_unicode_text = unicode_text.encode(\"utf-8\")\n",
    "print(encoded_unicode_text,end=\"\\n\\n\")\n",
    "\n",
    "w_file = open(\"w_file.txt\",\"wb\")\n",
    "w_file.write(encoded_unicode_text)\n",
    "w_file.close()\n",
    "\n",
    "r_file = open(\"w_file.txt\",\"rb\")\n",
    "data = r_file.read()\n",
    "print(data)"
   ]
  },
  {
   "cell_type": "markdown",
   "id": "a3be5833",
   "metadata": {},
   "source": [
    "### Q7. What qualifies ASCII text as a form of Unicode text?\n"
   ]
  },
  {
   "cell_type": "markdown",
   "id": "f4b8c770",
   "metadata": {},
   "source": [
    "### Answer:\n",
    "The first 128 Unicode code points represent the ASCII characters, which means that any ASCII text is also a UTF-8 text. As long as it contains no code points in the reserved range U+D800–U+DFFF, a UCS-2 text is valid UTF-16 text.\n",
    "\n",
    "Encoding formats: UTF-8; UTF-16; GB18030;\n",
    "\n",
    "Standard: Unicode Standard\n",
    "\n",
    "Alias(es): Universal Coded Character Set (UCS)"
   ]
  },
  {
   "cell_type": "markdown",
   "id": "4190770c",
   "metadata": {},
   "source": [
    "### Q8. How much of an effect does the change in string types in Python 3.X have on your code?\n"
   ]
  },
  {
   "cell_type": "markdown",
   "id": "d9e54543",
   "metadata": {},
   "source": [
    "### Answer:"
   ]
  },
  {
   "cell_type": "markdown",
   "id": "79349127",
   "metadata": {},
   "source": [
    "Python 3 stores strings as Unicode by default whereas Python 2 requires you to mark a string with a u if you want to store it as Unicode. Unicode strings are more versatile than ASCII strings, which are the Python 3.X default, as they can store letters from foreign languages as well as emoji and the standard Roman letters and numerals."
   ]
  }
 ],
 "metadata": {
  "kernelspec": {
   "display_name": "Python 3",
   "language": "python",
   "name": "python3"
  },
  "language_info": {
   "codemirror_mode": {
    "name": "ipython",
    "version": 3
   },
   "file_extension": ".py",
   "mimetype": "text/x-python",
   "name": "python",
   "nbconvert_exporter": "python",
   "pygments_lexer": "ipython3",
   "version": "3.8.8"
  }
 },
 "nbformat": 4,
 "nbformat_minor": 5
}
