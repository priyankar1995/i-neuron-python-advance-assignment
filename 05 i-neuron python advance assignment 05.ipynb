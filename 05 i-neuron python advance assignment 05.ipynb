{
 "cells": [
  {
   "cell_type": "markdown",
   "id": "55a5a3dd",
   "metadata": {},
   "source": [
    "### Q1. What is the meaning of multiple inheritance?"
   ]
  },
  {
   "cell_type": "markdown",
   "id": "ef7360a6",
   "metadata": {},
   "source": [
    "### Answer\n",
    "Multiple inheritance means that a subclass can inherit from two or more superclasses."
   ]
  },
  {
   "cell_type": "code",
   "execution_count": 4,
   "id": "77014517",
   "metadata": {},
   "outputs": [
    {
     "name": "stdout",
     "output_type": "stream",
     "text": [
      "multi_task\n",
      "Name: tesla\n"
     ]
    }
   ],
   "source": [
    "#multiple inheritence\n",
    "class Ineuron:\n",
    "    company_website = 'https://ineuron.ai/'\n",
    "    name = 'iNeuron'\n",
    " \n",
    "    def contact_details(self):\n",
    "        print('Contact us at ', self.company_website)\n",
    "\n",
    "class OS:\n",
    "    multi_task = True\n",
    "    os_name = 'Windows OS'\n",
    "    name = \"tesla\"\n",
    "\n",
    "class windows(OS, Ineuron):\n",
    "    def __init__(self):\n",
    "        if self.multi_task is True:\n",
    "            print('multi_task')\n",
    "        print('Name: {}'.format(self.name))\n",
    " \n",
    "windows = windows()"
   ]
  },
  {
   "cell_type": "markdown",
   "id": "85eb04e2",
   "metadata": {},
   "source": [
    "### Q2. What is the concept of delegation?"
   ]
  },
  {
   "cell_type": "markdown",
   "id": "5bdb6160",
   "metadata": {},
   "source": [
    "### Answer\n",
    "Delegation is an object oriented technique (also called a design pattern). Let's say we have an object x and want to change the behaviour of just one of its methods. we can create a new class that provides a new implementation of the method we're interested in changing and delegates all other methods to the corresponding method of x.\n",
    "\n",
    "Delegation can be imlemented easily. For example, the following class implements a class that behaves like a file but converts all written data to uppercase:"
   ]
  },
  {
   "cell_type": "code",
   "execution_count": 5,
   "id": "2e361642",
   "metadata": {},
   "outputs": [],
   "source": [
    "class UpperOut:\n",
    "  def __init__(self, outfile):\n",
    "    self.__outfile = outfile\n",
    "  def write(self, s):\n",
    "    self.__outfile.write(s.upper())\n",
    "  def __getattr__(self, name):\n",
    "    return getattr(self.__outfile, name)\n",
    "\n",
    "# Here the UpperOut class redefines the write() method to convert the argument string to uppercase before calling the underlying self.__outfile.write() method.\n",
    "# All other methods are delegated to the underlying self.__outfile object. The delegation is accomplished via the __getattr__ method."
   ]
  },
  {
   "cell_type": "markdown",
   "id": "de01c936",
   "metadata": {},
   "source": [
    "### Q3. What is the concept of composition?"
   ]
  },
  {
   "cell_type": "markdown",
   "id": "d35b357d",
   "metadata": {},
   "source": [
    "### Answer\n",
    "It is one of the fundamental concepts of Object-Oriented Programming. In this concept, we describe a class that references to one or more objects of other classes as an Instance variable. Here, by using the class name or by creating the object we can access the members of one class inside another class. It enables creating complex types by combining objects of different classes. It means that a class Composite can contain an object of another class Component. This type of relationship is known as Has-A Relation.\n",
    "\n",
    "class A :\n",
    "\n",
    "   *variables of class A\n",
    "   \n",
    "   *methods of class A\n",
    "   \n",
    "  ...\n",
    "  \n",
    "  ...\n",
    "  \n",
    "class B :\n",
    "\n",
    "  *by using \"obj\" we can access member's of class A.\n",
    "  \n",
    "  obj = A()\n",
    "  \n",
    "  *variables of class B\n",
    "  \n",
    "  *methods of class B\n",
    "  \n",
    "  ...\n",
    "  ..."
   ]
  },
  {
   "cell_type": "markdown",
   "id": "d34cee99",
   "metadata": {},
   "source": [
    "### Q4. What are bound methods and how do we use them?"
   ]
  },
  {
   "cell_type": "markdown",
   "id": "bd2e3b4d",
   "metadata": {},
   "source": [
    "### Answer\n",
    "A bound method is the one which is dependent on the instance of the class as the first argument. It passes the instance as the first argument which is used to access the variables and functions. In Python 3 and newer versions of python, all functions in the class are by default bound methods."
   ]
  },
  {
   "cell_type": "markdown",
   "id": "11092433",
   "metadata": {},
   "source": [
    "### Q5. What is the purpose of pseudoprivate attributes?"
   ]
  },
  {
   "cell_type": "markdown",
   "id": "3f59c4fb",
   "metadata": {},
   "source": [
    "### Answer\n",
    "Pseudoprivate attributes are useful in larger frameworks or tools, both to avoid introducing new method names that might accidentally hide definitions elsewhere in the class tree and to reduce the chance of internal methods being replaced by names defined lower in the tree.\n",
    "\n"
   ]
  },
  {
   "cell_type": "code",
   "execution_count": 3,
   "id": "6884cebd",
   "metadata": {},
   "outputs": [
    {
     "name": "stdout",
     "output_type": "stream",
     "text": [
      "Newton\n",
      "Newton\n"
     ]
    }
   ],
   "source": [
    "class Info:\n",
    "    def __init__(self):\n",
    "        self.__name = 'Newton'\n",
    "    def __say(self):\n",
    "        return self.__name\n",
    "a = Info()\n",
    "print(a._Info__name) \n",
    "print(a._Info__say())"
   ]
  }
 ],
 "metadata": {
  "kernelspec": {
   "display_name": "Python 3",
   "language": "python",
   "name": "python3"
  },
  "language_info": {
   "codemirror_mode": {
    "name": "ipython",
    "version": 3
   },
   "file_extension": ".py",
   "mimetype": "text/x-python",
   "name": "python",
   "nbconvert_exporter": "python",
   "pygments_lexer": "ipython3",
   "version": "3.8.8"
  }
 },
 "nbformat": 4,
 "nbformat_minor": 5
}
