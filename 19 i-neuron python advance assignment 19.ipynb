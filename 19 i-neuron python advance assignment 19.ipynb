{
 "cells": [
  {
   "cell_type": "markdown",
   "id": "3e82fd72",
   "metadata": {},
   "source": [
    "### Q1. Define the relationship between a class and its instances. Is it a one-to-one or a one-to-many partnership, for example?"
   ]
  },
  {
   "cell_type": "markdown",
   "id": "4383f910",
   "metadata": {},
   "source": [
    "### Answer:\n",
    "A class is a blueprint which you use to create objects. An object is an instance of a class - it's a concrete 'thing' that you made using a specific class. So, 'object' and 'instance' are the same thing, but the word 'instance' indicates the relationship of an object to its class. a single object of a class can access multille functions defiend in the class in form of ine to many relationships."
   ]
  },
  {
   "cell_type": "markdown",
   "id": "959fbad2",
   "metadata": {},
   "source": [
    "### Q2. What kind of data is held only in an instance?\n"
   ]
  },
  {
   "cell_type": "markdown",
   "id": "8a985a6f",
   "metadata": {},
   "source": [
    "### Answer:\n",
    "If the value of a variable varies from object to object, then such variables are called instance variables. For every object, a separate copy of the instance variable will be created. Instance variables are not shared by objects."
   ]
  },
  {
   "cell_type": "markdown",
   "id": "eb519d49",
   "metadata": {},
   "source": [
    "### Q3. What kind of knowledge is stored in a class?\n"
   ]
  },
  {
   "cell_type": "markdown",
   "id": "99d0f36e",
   "metadata": {},
   "source": [
    "### Answer:\n",
    "A class is a user-defined blueprint or prototype from which objects are created. Classes provide a means of bundling data and functionality together. Creating a new class creates a new type of object, allowing new instances of that type to be made."
   ]
  },
  {
   "cell_type": "markdown",
   "id": "e49e875e",
   "metadata": {},
   "source": [
    "### Q4. What exactly is a method, and how is it different from a regular function?\n"
   ]
  },
  {
   "cell_type": "markdown",
   "id": "2b50766e",
   "metadata": {},
   "source": [
    "### Answer:\n",
    " Methods are associated with the objects of the class they belong to. Functions are not associated with any object. Functions operate on the data we pass to them as arguments. Methods are dependent on the class they belong to."
   ]
  },
  {
   "cell_type": "markdown",
   "id": "340f0305",
   "metadata": {},
   "source": [
    "### Q5. Is inheritance supported in Python, and if so, what is the syntax?\n"
   ]
  },
  {
   "cell_type": "markdown",
   "id": "6dfc37bf",
   "metadata": {},
   "source": [
    "### Answer:\n",
    "yes"
   ]
  },
  {
   "cell_type": "code",
   "execution_count": 2,
   "id": "d5161c4f",
   "metadata": {},
   "outputs": [
    {
     "name": "stdout",
     "output_type": "stream",
     "text": [
      "iNeuron Company was established in 2018\n"
     ]
    }
   ],
   "source": [
    "#single level inheritence\n",
    "class Ineuron:\n",
    "    company_website = 'https://ineuron.ai/'\n",
    "    name = 'iNeuron'\n",
    " \n",
    "    def contact_details(self):\n",
    "        print('Contact us at ', self.company_website)\n",
    " \n",
    " \n",
    "class Datascience(Ineuron):\n",
    "    def __init__(self):\n",
    "        self.year_of_establishment= 2018\n",
    " \n",
    "    def est_details(self):\n",
    "        print('{0} Company was established in {1}'\n",
    "              .format(self.name,self.year_of_establishment))\n",
    " \n",
    " \n",
    "ds = Datascience()\n",
    "ds.est_details()"
   ]
  },
  {
   "cell_type": "markdown",
   "id": "13f74c8d",
   "metadata": {},
   "source": [
    "### Q6. How much encapsulation (making instance or class variables private) does Python support?\n"
   ]
  },
  {
   "cell_type": "markdown",
   "id": "3f2a69a8",
   "metadata": {},
   "source": [
    "### Answer:\n",
    "We can protect variables in the class by marking them private. To define a private variable we can add two underscores as a prefix at the start of a variable name. Private members are accessible only within the class, and we can't access them directly from the class objects."
   ]
  },
  {
   "cell_type": "markdown",
   "id": "e142252d",
   "metadata": {},
   "source": [
    "### Q7. How do you distinguish between a class variable and an instance variable?\n"
   ]
  },
  {
   "cell_type": "markdown",
   "id": "e98e46f5",
   "metadata": {},
   "source": [
    "### Answer:\n",
    " Class varibale: It usually maintains a single shared value for all instances of class even if no instance object of the class exists.\n",
    "\n",
    "Instance Variable: It usually reserves memory for data that the class needs."
   ]
  },
  {
   "cell_type": "markdown",
   "id": "55b8890b",
   "metadata": {},
   "source": [
    "### Q8. When, if ever, can self be included in a class's method definitions?\n"
   ]
  },
  {
   "cell_type": "markdown",
   "id": "31e00cd8",
   "metadata": {},
   "source": [
    "### Answer:\n",
    "Self is always pointing to Current Object."
   ]
  },
  {
   "cell_type": "markdown",
   "id": "3058e380",
   "metadata": {},
   "source": [
    "### Q9. What is the difference between the _ _add_ _ and the _ _radd_ _ methods?\n"
   ]
  },
  {
   "cell_type": "markdown",
   "id": "226494ce",
   "metadata": {},
   "source": [
    "### Answer:"
   ]
  },
  {
   "cell_type": "code",
   "execution_count": 3,
   "id": "83bcc688",
   "metadata": {},
   "outputs": [
    {
     "name": "stdout",
     "output_type": "stream",
     "text": [
      "add 88 <__main__.Commuter1 object at 0x0000026591C16F70>\n",
      "radd 99 88\n",
      "187\n"
     ]
    }
   ],
   "source": [
    "class Commuter1:\n",
    "    def __init__(self, val):\n",
    "        self.val = val\n",
    "    def __add__(self, other):\n",
    "        print('add', self.val, other)\n",
    "        return self.val + other\n",
    "\n",
    "\n",
    "    def __radd__(self, other):\n",
    "        print('radd', self.val, other)\n",
    "        return other + self.val\n",
    "\n",
    "\n",
    "x = Commuter1(88)\n",
    "y = Commuter1(99)\n",
    "\n",
    "print(x + y)"
   ]
  },
  {
   "cell_type": "markdown",
   "id": "1ff76998",
   "metadata": {},
   "source": [
    "### Q10. When is it necessary to use a reflection method? When do you not need it, even though you support the operation in question?\n"
   ]
  },
  {
   "cell_type": "markdown",
   "id": "42f521d4",
   "metadata": {},
   "source": [
    "### Answer:\n",
    "Reflection refers to the ability for code to be able to examine attributes about objects that might be passed as parameters to a function. For example, if we write type(obj) then Python will return an object which represents the type of obj. we need it to reflect the behaviour of data being holded."
   ]
  },
  {
   "cell_type": "markdown",
   "id": "58c05ce2",
   "metadata": {},
   "source": [
    "### Q11. What is the _ _iadd_ _ method called?\n"
   ]
  },
  {
   "cell_type": "markdown",
   "id": "a0cd8b7c",
   "metadata": {},
   "source": [
    "### Answer:\n",
    "So the main difference between add and iadd is that iadd is actually storing that value its adding into the self.value."
   ]
  },
  {
   "cell_type": "code",
   "execution_count": 5,
   "id": "eb083795",
   "metadata": {},
   "outputs": [
    {
     "name": "stdout",
     "output_type": "stream",
     "text": [
      "0\n",
      "0\n",
      "2\n"
     ]
    },
    {
     "data": {
      "text/plain": [
       "0"
      ]
     },
     "execution_count": 5,
     "metadata": {},
     "output_type": "execute_result"
    }
   ],
   "source": [
    "class NumString:\n",
    "\n",
    "    def __init__(self, value):\n",
    "        self.value = str(value)\n",
    "\n",
    "    def __int__(self):\n",
    "        return int(self.value)\n",
    "\n",
    "    def __str__(self):\n",
    "        return self.value\n",
    "\n",
    "    def __add__(self, other):\n",
    "        return int(self) + other\n",
    "\n",
    "    def __iadd__(self, other):\n",
    "        self.value = self + other\n",
    "        return self.value\n",
    "\n",
    "some_num1 = NumString(0) # Create an instance of NumString with 0 as value.\n",
    "print(str(some_num1)) # Check what is contained within self.value in this instance.\n",
    "\n",
    "some_num1 + 1 # We add some_num1 to 1, this returns back the calculation using the __add__ method\n",
    "print(str(some_num1)) # check what some_num1 is holding for a self.value\n",
    "\n",
    "some_num1 += 2 # We in-place add some_num1 to 2, this stores and returns the new stored value using __iadd__ method.\n",
    "print(str(some_num1)) # check what some_num1 is holding now?\n",
    "0"
   ]
  },
  {
   "cell_type": "markdown",
   "id": "954f32bc",
   "metadata": {},
   "source": [
    "### Q12. Is the _ _init_ _ method inherited by subclasses? What do you do if you need to customize its behavior within a subclass?\n"
   ]
  },
  {
   "cell_type": "markdown",
   "id": "2d825139",
   "metadata": {},
   "source": [
    "### Answer:\n",
    "In Python, it is not compulsory that parent class constructor will always be called first. The order in which the init method is called for a parent or a child class can be modified.\n",
    "\n",
    "A subclass can do more than that; it can define a method that has exactly the same method signature (name and argument types) as a method in its superclass. In that case, the method in the subclass overrides the method in the superclass and effectively replaces its implementation."
   ]
  }
 ],
 "metadata": {
  "kernelspec": {
   "display_name": "Python 3",
   "language": "python",
   "name": "python3"
  },
  "language_info": {
   "codemirror_mode": {
    "name": "ipython",
    "version": 3
   },
   "file_extension": ".py",
   "mimetype": "text/x-python",
   "name": "python",
   "nbconvert_exporter": "python",
   "pygments_lexer": "ipython3",
   "version": "3.8.8"
  }
 },
 "nbformat": 4,
 "nbformat_minor": 5
}
