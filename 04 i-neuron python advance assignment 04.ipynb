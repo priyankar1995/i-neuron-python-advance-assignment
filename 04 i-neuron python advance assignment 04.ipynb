{
 "cells": [
  {
   "cell_type": "markdown",
   "id": "c8e7edf2",
   "metadata": {},
   "source": [
    "### Q1. Which two operator overloading methods can you use in your classes to support iteration?"
   ]
  },
  {
   "cell_type": "markdown",
   "id": "99a5b3ad",
   "metadata": {},
   "source": [
    "### Answer:\n",
    "init, str are two operator overloading methods can which can be used to support iteration."
   ]
  },
  {
   "cell_type": "markdown",
   "id": "e1b61a69",
   "metadata": {},
   "source": [
    "### Q2. In what contexts do the two operator overloading methods manage printing?\n"
   ]
  },
  {
   "cell_type": "markdown",
   "id": "45ab43f0",
   "metadata": {},
   "source": [
    "### Answer:\n",
    "\n",
    "They can mamnage priting or outputting values wuth return statements.\n",
    "\n",
    "In cases where the str() method is not defined, Python uses the repr() method to print the object, as well as to represent the object when str() is called on it."
   ]
  },
  {
   "cell_type": "markdown",
   "id": "4ab2a51a",
   "metadata": {},
   "source": [
    "### Q3. In a class, how do you intercept slice operations?\n",
    " "
   ]
  },
  {
   "cell_type": "code",
   "execution_count": 5,
   "id": "23b6a221",
   "metadata": {},
   "outputs": [
    {
     "name": "stdout",
     "output_type": "stream",
     "text": [
      "abra ka \n"
     ]
    }
   ],
   "source": [
    "### Answer:\n",
    "sliced ='abra ka dabra'.__getitem__(slice(0, 8, 1)) #using slice() and __getitem__ slicing can be achieved in class\n",
    "print(sliced)"
   ]
  },
  {
   "cell_type": "code",
   "execution_count": 6,
   "id": "5d670f74",
   "metadata": {},
   "outputs": [
    {
     "name": "stdout",
     "output_type": "stream",
     "text": [
      "1\n",
      "(1, 2)\n",
      "(1, 2, 3)\n"
     ]
    }
   ],
   "source": [
    "#The class demo has the __getitem__ method, slicing is comma-separated. \n",
    "#Key prints the sliced object which is passed in class through variable a.\n",
    "\n",
    "class Demo:\n",
    "    def __getitem__(self, key):\n",
    "        # print a[1], a[1, 2],\n",
    "        # a[1, 2, 3]\n",
    "        print(key)\n",
    "        #return key\n",
    "\n",
    "a = Demo()\n",
    "a[1]\n",
    "a[1, 2]\n",
    "a[1, 2, 3]"
   ]
  },
  {
   "cell_type": "markdown",
   "id": "ea11518e",
   "metadata": {},
   "source": [
    "### Q4. In a class, how do you capture in-place addition?\n"
   ]
  },
  {
   "cell_type": "markdown",
   "id": "11ff7ebd",
   "metadata": {},
   "source": [
    "### Answer:\n",
    "Python provides the operator x += y to add two objects in-place by calculating the sum x + y and assigning the result to the first operands variable name x. We can set up the in-place addition behavior for our own class by overriding the magic “dunder” method iadd(self, other) in our class definition."
   ]
  },
  {
   "cell_type": "markdown",
   "id": "92310f2e",
   "metadata": {},
   "source": [
    "### Q5. When is it appropriate to use operator overloading?\n"
   ]
  },
  {
   "cell_type": "markdown",
   "id": "9729d660",
   "metadata": {},
   "source": [
    "### Answer:\n",
    "The operator overloading in Python means provide extended meaning beyond their predefined operational meaning. Such as, we use the \"+\" operator for adding two integers as well as joining two strings or merging two lists. We can achieve this as the \"+\" operator is overloaded by the \"int\" class and \"str\" class. Hence when we have to extended meaning beyond their predefined operational meaning we can use operator overloading,"
   ]
  }
 ],
 "metadata": {
  "kernelspec": {
   "display_name": "Python 3",
   "language": "python",
   "name": "python3"
  },
  "language_info": {
   "codemirror_mode": {
    "name": "ipython",
    "version": 3
   },
   "file_extension": ".py",
   "mimetype": "text/x-python",
   "name": "python",
   "nbconvert_exporter": "python",
   "pygments_lexer": "ipython3",
   "version": "3.8.8"
  }
 },
 "nbformat": 4,
 "nbformat_minor": 5
}
