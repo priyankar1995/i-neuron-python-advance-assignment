{
 "cells": [
  {
   "cell_type": "markdown",
   "id": "49fe7307",
   "metadata": {},
   "source": [
    "### Q1. Explain the difference between greedy and non-greedy syntax with visual terms in as few words as possible. What is the bare minimum effort required to transform a greedy pattern into a non-greedy one? What characters or characters can you introduce or change?"
   ]
  },
  {
   "cell_type": "markdown",
   "id": "4d62630f",
   "metadata": {},
   "source": [
    "### Answer:\n",
    "So the difference between the greedy and the non-greedy match is the following: The greedy match will try to match as many repetitions of the quantified pattern as possible. The non-greedy match will try to match as few repetitions of the quantified pattern as possible.\n",
    "\n",
    "the bare minimum effort required to transform a greedy pattern into a non-greedy one can be just implemented by using a singlle character. The ? operand makes match non-greedy. E.g. . is greedy while .? isn't."
   ]
  },
  {
   "cell_type": "markdown",
   "id": "2d4bcfe3",
   "metadata": {},
   "source": [
    "### Q2. When exactly does greedy versus non-greedy make a difference?  What if you're looking for a non-greedy match but the only one available is greedy?\n"
   ]
  },
  {
   "cell_type": "markdown",
   "id": "8717bf4d",
   "metadata": {},
   "source": [
    "### Answer:\n",
    "So the difference between the greedy and the non-greedy match is the following: The greedy match will try to match as many repetitions of the quantified pattern as possible. The non-greedy match will try to match as few repetitions of the quantified pattern as possible.\n",
    "\n",
    "example: To make the quantifier non-greedy you simply follow it with a '?' the first 3 characters and then the following 'ab' is matched. greedy by appending a '?' symbol to them: *?, +?, ??, {n,m}?, and {n,}?.\n",
    "\n",
    "if we're looking for a non-greedy match but the only one available is greedy that will result in matching the shortest possible string."
   ]
  },
  {
   "cell_type": "markdown",
   "id": "77d914e0",
   "metadata": {},
   "source": [
    "### Q3. In a simple match of a string, which looks only for one match and does not do any replacement, is the use of a nontagged group likely to make any practical difference?\n"
   ]
  },
  {
   "cell_type": "markdown",
   "id": "96f9e520",
   "metadata": {},
   "source": [
    "### Answer:\n",
    "Yes it might do."
   ]
  },
  {
   "cell_type": "markdown",
   "id": "8ee994f1",
   "metadata": {},
   "source": [
    "### Q4. Describe a scenario in which using a nontagged category would have a significant impact on the program's outcomes.\n"
   ]
  },
  {
   "cell_type": "markdown",
   "id": "0ac0b43c",
   "metadata": {},
   "source": [
    "### Answer:"
   ]
  },
  {
   "cell_type": "code",
   "execution_count": 1,
   "id": "f7db7c30",
   "metadata": {},
   "outputs": [
    {
     "name": "stdout",
     "output_type": "stream",
     "text": [
      "['1', '1', '4', '1', '8', '8', '6']\n",
      "['11', '4', '1886']\n"
     ]
    }
   ],
   "source": [
    "import re\n",
    " \n",
    "# \\d is equivalent to [0-9].\n",
    "p = re.compile('\\d')\n",
    "print(p.findall(\"I went to him at 11 A.M. on 4th July 1886\"))\n",
    " \n",
    "# \\d+ will match a group on [0-9], group of one or greater size\n",
    "p = re.compile('\\d+')\n",
    "print(p.findall(\"I went to him at 11 A.M. on 4th July 1886\"))\n",
    "\n",
    "#a simple + operator can make a huge difference in outcome in case of regular expressions"
   ]
  },
  {
   "cell_type": "markdown",
   "id": "43adb4f2",
   "metadata": {},
   "source": [
    "### Q5. Unlike a normal regex pattern, a look-ahead condition does not consume the characters it examines. Describe a situation in which this could make a difference in the results of your programme.\n"
   ]
  },
  {
   "cell_type": "markdown",
   "id": "449d9050",
   "metadata": {},
   "source": [
    "### Answer:\n",
    "While the order of lookaheads doesn't matter on a logical level, we should keep in mind that it may matter for matching speed. If one lookahead is more likely to fail than the other two, it makes little sense to place it in third position and expend a lot of energy checking the first two conditions. Make it first, so that if we're going to fail, we fail early—an application of the design to fail principle from the regex style guide."
   ]
  },
  {
   "cell_type": "markdown",
   "id": "f677bd5c",
   "metadata": {},
   "source": [
    "### Q6. In standard expressions, what is the difference between positive look-ahead and negative look-ahead?\n"
   ]
  },
  {
   "cell_type": "markdown",
   "id": "4d5dbc92",
   "metadata": {},
   "source": [
    "### Answer:\n",
    "Positive lookahead: (?= «pattern») matches if pattern matches what comes after the current location in the input string.\n",
    "\n",
    "Negative lookahead: (?! «pattern») matches if pattern does not match what comes after the current location in the input string."
   ]
  },
  {
   "cell_type": "markdown",
   "id": "49fe36ec",
   "metadata": {},
   "source": [
    "### Q7. What is the benefit of referring to groups by name rather than by number in a standard expression?\n"
   ]
  },
  {
   "cell_type": "markdown",
   "id": "06035dc3",
   "metadata": {},
   "source": [
    "### Answer:\n",
    "The advantage to named groups is that it adds readability and understandability to the code, so that we can easily see what part of a regular expression match is being referenced."
   ]
  },
  {
   "cell_type": "markdown",
   "id": "93e5e928",
   "metadata": {},
   "source": [
    "### Q8. Can you identify repeated items within a target string using named groups, as in \"The cow jumped over the moon\"?\n"
   ]
  },
  {
   "cell_type": "markdown",
   "id": "f6d8f059",
   "metadata": {},
   "source": [
    "### Answer:\n",
    "In this particular scenario it may be possible by checking it wu=ith the + tag in regex go check for one or more occurances."
   ]
  },
  {
   "cell_type": "markdown",
   "id": "ee0e6f23",
   "metadata": {},
   "source": [
    "### Q9. When parsing a string, what is at least one thing that the Scanner interface does for you that the re.findall feature does not?\n"
   ]
  },
  {
   "cell_type": "markdown",
   "id": "c82f35b7",
   "metadata": {},
   "source": [
    "### Answer:\n",
    "search() method is able to find a pattern from any position of the string. The re. It searches from start or end of the given string. If we use method findall to search for a pattern in a given string it will return all occurrences of the pattern."
   ]
  },
  {
   "cell_type": "markdown",
   "id": "1745f265",
   "metadata": {},
   "source": [
    "### Q10. Does a scanner object have to be named scanner?\n"
   ]
  },
  {
   "cell_type": "markdown",
   "id": "e906f4ad",
   "metadata": {},
   "source": [
    "### Answer:\n",
    "The scan module is part of the microscopy package. It provides a framework for multidimensional scanning routines while acquiring data. Not madatory to keep the same name."
   ]
  }
 ],
 "metadata": {
  "kernelspec": {
   "display_name": "Python 3",
   "language": "python",
   "name": "python3"
  },
  "language_info": {
   "codemirror_mode": {
    "name": "ipython",
    "version": 3
   },
   "file_extension": ".py",
   "mimetype": "text/x-python",
   "name": "python",
   "nbconvert_exporter": "python",
   "pygments_lexer": "ipython3",
   "version": "3.8.8"
  }
 },
 "nbformat": 4,
 "nbformat_minor": 5
}
