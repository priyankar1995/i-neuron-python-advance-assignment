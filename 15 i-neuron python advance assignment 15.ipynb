{
 "cells": [
  {
   "cell_type": "markdown",
   "id": "9d1d84ec",
   "metadata": {},
   "source": [
    "### 1.\tWhat are the new features added in Python 3.8 version?\n",
    "\n"
   ]
  },
  {
   "cell_type": "markdown",
   "id": "01c989bb",
   "metadata": {},
   "source": [
    "### Answer:\n",
    "Python 3.8 adds some new syntax to the language, a few minor changes to existing behavior, and mostly a bunch of speed improvements — maintaining the tradition from the earlier 3.7 release\n",
    "\n",
    "Example: PEP 572 (Assignment Expressions) – The walrus operator (:=)"
   ]
  },
  {
   "cell_type": "markdown",
   "id": "48c33a96",
   "metadata": {},
   "source": [
    "### 2.\tWhat is monkey patching in Python?\n"
   ]
  },
  {
   "cell_type": "markdown",
   "id": "6e11385a",
   "metadata": {},
   "source": [
    "### Answer:\n",
    "In Python, the term monkey patch refers to dynamic (or run-time) modifications of a class or module. In Python, we can actually change the behavior of code at run-time."
   ]
  },
  {
   "cell_type": "code",
   "execution_count": 1,
   "id": "ffb32472",
   "metadata": {},
   "outputs": [],
   "source": [
    "# save as monk.py and calll below \n",
    "class A:\n",
    "     def func(self):\n",
    "          print (\"func() is being called\")"
   ]
  },
  {
   "cell_type": "code",
   "execution_count": null,
   "id": "8214845a",
   "metadata": {},
   "outputs": [],
   "source": [
    "def monkey_f(self):\n",
    "\tprint (\"monkey_f() is being called\")\n",
    "\n",
    "# replacing address of \"func\" with \"monkey_f\"\n",
    "monk.A.func = monkey_f\n",
    "obj = monk.A()\n",
    "\n",
    "# calling function \"func\" whose address got replaced with function \"monkey_f()\"\n",
    "obj.func()"
   ]
  },
  {
   "cell_type": "code",
   "execution_count": 3,
   "id": "819265f3",
   "metadata": {},
   "outputs": [],
   "source": [
    "# OUTPUT: monkey_f() is being called"
   ]
  },
  {
   "cell_type": "markdown",
   "id": "ad1dff96",
   "metadata": {},
   "source": [
    "### 3.\tWhat is the difference between a shallow copy and deep copy?\n"
   ]
  },
  {
   "cell_type": "markdown",
   "id": "6d63e0ec",
   "metadata": {},
   "source": [
    "### Answer:\n",
    "A shallow copy constructs a new compound object and then (to the extent possible) inserts references into it to the objects found in the original. A deep copy constructs a new compound object and then, recursively, inserts copies into it of the objects found in the original."
   ]
  },
  {
   "cell_type": "markdown",
   "id": "30b7944c",
   "metadata": {},
   "source": [
    "### 4.\tWhat is the maximum possible length of an identifier?\n"
   ]
  },
  {
   "cell_type": "markdown",
   "id": "82f7d7a1",
   "metadata": {},
   "source": [
    "### Answer:\n",
    " Identifiers can be a combination of letters, numbers, special symbols, etc. But it must not extend 31 characters. Hence, the maximum possible length of an identifier is 31"
   ]
  },
  {
   "cell_type": "markdown",
   "id": "c414132a",
   "metadata": {},
   "source": [
    "### 5.\tWhat is generator comprehension?"
   ]
  },
  {
   "cell_type": "markdown",
   "id": "12d22e6c",
   "metadata": {},
   "source": [
    "### Answer:\n",
    " A generator comprehension is a single-line specification for defining a generator in Python"
   ]
  },
  {
   "cell_type": "code",
   "execution_count": 4,
   "id": "81104d4b",
   "metadata": {},
   "outputs": [
    {
     "name": "stdout",
     "output_type": "stream",
     "text": [
      "<generator object <genexpr> at 0x000001B0C05895F0>\n"
     ]
    }
   ],
   "source": [
    "gen = (i**2 for i in range(100))\n",
    "print(gen)\n"
   ]
  },
  {
   "cell_type": "code",
   "execution_count": 5,
   "id": "5c6ae227",
   "metadata": {},
   "outputs": [
    {
     "data": {
      "text/plain": [
       "328350"
      ]
     },
     "execution_count": 5,
     "metadata": {},
     "output_type": "execute_result"
    }
   ],
   "source": [
    "gen = (i**2 for i in range(100))\n",
    "sum(gen)"
   ]
  }
 ],
 "metadata": {
  "kernelspec": {
   "display_name": "Python 3",
   "language": "python",
   "name": "python3"
  },
  "language_info": {
   "codemirror_mode": {
    "name": "ipython",
    "version": 3
   },
   "file_extension": ".py",
   "mimetype": "text/x-python",
   "name": "python",
   "nbconvert_exporter": "python",
   "pygments_lexer": "ipython3",
   "version": "3.8.8"
  }
 },
 "nbformat": 4,
 "nbformat_minor": 5
}
