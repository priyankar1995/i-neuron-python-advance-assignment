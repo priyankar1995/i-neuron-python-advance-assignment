{
 "cells": [
  {
   "cell_type": "markdown",
   "id": "5845483f",
   "metadata": {},
   "source": [
    "### Q1. What is the purpose of Python's OOP?"
   ]
  },
  {
   "cell_type": "markdown",
   "id": "7f7cf235",
   "metadata": {},
   "source": [
    "### Answer:\n",
    "In Python, object-oriented Programming (OOPs) is a programming paradigm that uses objects and classes in programming. It aims to implement real-world entities like inheritance, polymorphisms, encapsulation, etc. in the programming. The main concept of OOPs is to bind the data and the functions that work on that together as a single unit so that no other part of the code can access this data."
   ]
  },
  {
   "cell_type": "markdown",
   "id": "c2097712",
   "metadata": {},
   "source": [
    "### Q2. Where does an inheritance search look for an attribute?"
   ]
  },
  {
   "cell_type": "markdown",
   "id": "6c7191c8",
   "metadata": {},
   "source": [
    "### Answer:\n",
    "The inheritance search is simply a search of the tree from bottom to top looking for the lowest occurrence of an attribute name"
   ]
  },
  {
   "cell_type": "markdown",
   "id": "d5ee1c0a",
   "metadata": {},
   "source": [
    "### Q3. How do you distinguish between a class object and an instance object?"
   ]
  },
  {
   "cell_type": "markdown",
   "id": "3f115980",
   "metadata": {},
   "source": [
    "### Answer:\n",
    "An Object is an instance of a Class. A class is like a blueprint while an instance is a copy of the class with actual values. It’s not an idea anymore, it’s an actual dog, like a dog of breed pug who’s seven years old. You can have many dogs to create many different instances, but without the class as a guide, you would be lost, not knowing what information is required.\n",
    "\n",
    "#### An object consists of :\n",
    "\n",
    "State: It is represented by the attributes of an object. It also reflects the properties of an object.\n",
    "\n",
    "Behavior: It is represented by the methods of an object. It also reflects the response of an object to other objects.\n",
    "\n",
    "Identity: It gives a unique name to an object and enables one object to interact with other objects.\n",
    "\n",
    "#### Instance object:\n",
    "\n",
    "To create instances of a class, you call the class using class name and pass in whatever arguments its init method accepts."
   ]
  },
  {
   "cell_type": "markdown",
   "id": "abc3ebc8",
   "metadata": {},
   "source": [
    "### Q4. What makes the first argument in a class’s method function special?"
   ]
  },
  {
   "cell_type": "markdown",
   "id": "c835fdb4",
   "metadata": {},
   "source": [
    "### Answer:\n",
    "The first argument of every class method, including init, is always a reference to the current instance of the class. By convention, this argument is always named self. In the init method, self refers to the newly created object; in other class methods, it refers to the instance whose method was called."
   ]
  },
  {
   "cell_type": "markdown",
   "id": "fdaa3877",
   "metadata": {},
   "source": [
    "### Q5. What is the purpose of the __init__ method?"
   ]
  },
  {
   "cell_type": "markdown",
   "id": "da81d682",
   "metadata": {},
   "source": [
    "### Answer:\n",
    "The init function is called every time an object is created from a class. The init method lets the class initialize the object's attributes and serves no other purpose. It is only used within classes."
   ]
  },
  {
   "cell_type": "markdown",
   "id": "f1cea40a",
   "metadata": {},
   "source": [
    "### Q6. What is the process for creating a class instance?"
   ]
  },
  {
   "cell_type": "markdown",
   "id": "ca6f291f",
   "metadata": {},
   "source": [
    "### Answer:\n",
    "Define a class first then create the functions after the class is made then create the object for calling the functions as per requirements. Example:"
   ]
  },
  {
   "cell_type": "code",
   "execution_count": 1,
   "id": "dcde979a",
   "metadata": {},
   "outputs": [
    {
     "name": "stdout",
     "output_type": "stream",
     "text": [
      "abc\n"
     ]
    }
   ],
   "source": [
    "class C:\n",
    "    def __init__(self, data):\n",
    "        self.data = data\n",
    "\n",
    "an_instance = C(\"abc\")\n",
    "print(an_instance.data)"
   ]
  },
  {
   "cell_type": "markdown",
   "id": "66572f44",
   "metadata": {},
   "source": [
    "### Q7. What is the process for creating a class?"
   ]
  },
  {
   "cell_type": "markdown",
   "id": "042cf48e",
   "metadata": {},
   "source": [
    "### Answer:\n",
    "A Class is like an object constructor, or a \"blueprint\" for creating objects. \n",
    "\n",
    "#### Example:"
   ]
  },
  {
   "cell_type": "code",
   "execution_count": 3,
   "id": "de0d25d2",
   "metadata": {},
   "outputs": [
    {
     "name": "stdout",
     "output_type": "stream",
     "text": [
      "5\n"
     ]
    }
   ],
   "source": [
    "class MyClass: #create class using class keyword\n",
    "  x = 5\n",
    "\n",
    "p1 = MyClass()\n",
    "print(p1.x)"
   ]
  },
  {
   "cell_type": "markdown",
   "id": "29fc839d",
   "metadata": {},
   "source": [
    "### Q8. How would you define the superclasses of a class?"
   ]
  },
  {
   "cell_type": "markdown",
   "id": "fcc23881",
   "metadata": {},
   "source": [
    "### Answer:\n",
    "The class from which a class inherits is called the parent or superclass. A class which inherits from a superclass is called a subclass, also called heir class or child class. Superclasses are sometimes called ancestors as well."
   ]
  }
 ],
 "metadata": {
  "kernelspec": {
   "display_name": "Python 3",
   "language": "python",
   "name": "python3"
  },
  "language_info": {
   "codemirror_mode": {
    "name": "ipython",
    "version": 3
   },
   "file_extension": ".py",
   "mimetype": "text/x-python",
   "name": "python",
   "nbconvert_exporter": "python",
   "pygments_lexer": "ipython3",
   "version": "3.8.8"
  }
 },
 "nbformat": 4,
 "nbformat_minor": 5
}
